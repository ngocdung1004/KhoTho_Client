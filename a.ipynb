{
 "cells": [
  {
   "cell_type": "code",
   "execution_count": 1,
   "metadata": {},
   "outputs": [],
   "source": [
    "import requests"
   ]
  },
  {
   "cell_type": "code",
   "execution_count": 3,
   "metadata": {},
   "outputs": [],
   "source": [
    "a = requests.get(\"https://rsapi.goong.io/Place/AutoComplete\",{\"api_key\":\"0FPJ8uvyRoK0fGHmjPXIjd4QStVdyB58VTXUnMnK\", \"input\":\"Hanoi\"})"
   ]
  },
  {
   "cell_type": "code",
   "execution_count": 4,
   "metadata": {},
   "outputs": [
    {
     "data": {
      "text/plain": [
       "[{'description': 'Hanoi University of Science and Techlogy, 1 Đại Cồ Việt, Phường Bách Khoa, Quận Hai Bà Trưng, Thành phố Hà Nội',\n",
       "  'matched_substrings': [],\n",
       "  'place_id': 'gWSisXy3YK23j1RC-nOGyZmJckCGYZ6zY95yA6gUYfP-mVdHhBZmw6OwSD2wcGbBjUzEAThiaIORcWa3IW58__LEXAKzFGXYrYFXQ2OBoeiRmD0QXcRdmgfqzTDyBFmTB',\n",
       "  'reference': 'gWSisXy3YK23j1RC-nOGyZmJckCGYZ6zY95yA6gUYfP-mVdHhBZmw6OwSD2wcGbBjUzEAThiaIORcWa3IW58__LEXAKzFGXYrYFXQ2OBoeiRmD0QXcRdmgfqzTDyBFmTB',\n",
       "  'structured_formatting': {'main_text': 'Hanoi University of Science and Techlogy',\n",
       "   'main_text_matched_substrings': [],\n",
       "   'secondary_text': '1 Đại Cồ Việt, Phường Bách Khoa, Quận Hai Bà Trưng, Thành phố Hà Nội',\n",
       "   'secondary_text_matched_substrings': []},\n",
       "  'has_children': True,\n",
       "  'plus_code': {'compound_code': '+368U Bách Khoa, Hai Bà Trưng, Hà Nội',\n",
       "   'global_code': 'LNVP+368U'},\n",
       "  'compound': {'district': 'Hai Bà Trưng',\n",
       "   'commune': 'Bách Khoa',\n",
       "   'province': 'Hà Nội'},\n",
       "  'terms': [{'offset': 0, 'value': 'Hanoi University of Science and Techlogy'},\n",
       "   {'offset': 41, 'value': '1 Đại Cồ Việt'},\n",
       "   {'offset': 63, 'value': 'Phường Bách Khoa'},\n",
       "   {'offset': 85, 'value': 'Quận Hai Bà Trưng'},\n",
       "   {'offset': 108, 'value': 'Thành phố Hà Nội'}],\n",
       "  'types': ['university'],\n",
       "  'distance_meters': None},\n",
       " {'description': 'Hanoi Law University, 87 Nguyễn Chí Thanh, Phường Láng Hạ, Quận Đống Đa, Thành phố Hà Nội',\n",
       "  'matched_substrings': [],\n",
       "  'place_id': 'ZzsUtP6yZVJrrkQCvBfxx1OdJB2wF5muioJ-DYdLpFKzo086tV-dExGaaeQeoFbjgZqOdIoIULPVgYIoUt5ug2lRzREGrT4bKZ6JUQIJPgutmmHIUtEeSgmWwTz-CFfnC',\n",
       "  'reference': 'ZzsUtP6yZVJrrkQCvBfxx1OdJB2wF5muioJ-DYdLpFKzo086tV-dExGaaeQeoFbjgZqOdIoIULPVgYIoUt5ug2lRzREGrT4bKZ6JUQIJPgutmmHIUtEeSgmWwTz-CFfnC',\n",
       "  'structured_formatting': {'main_text': 'Hanoi Law University',\n",
       "   'main_text_matched_substrings': [],\n",
       "   'secondary_text': '87 Nguyễn Chí Thanh, Phường Láng Hạ, Quận Đống Đa, Thành phố Hà Nội',\n",
       "   'secondary_text_matched_substrings': []},\n",
       "  'has_children': True,\n",
       "  'plus_code': {'compound_code': '+1NXK Láng Hạ, Đống Đa, Hà Nội',\n",
       "   'global_code': 'LO1N+1NXK'},\n",
       "  'compound': {'district': 'Đống Đa',\n",
       "   'commune': 'Láng Hạ',\n",
       "   'province': 'Hà Nội'},\n",
       "  'terms': [{'offset': 0, 'value': 'Hanoi Law University'},\n",
       "   {'offset': 21, 'value': '87 Nguyễn Chí Thanh'},\n",
       "   {'offset': 45, 'value': 'Phường Láng Hạ'},\n",
       "   {'offset': 67, 'value': 'Quận Đống Đa'},\n",
       "   {'offset': 87, 'value': 'Thành phố Hà Nội'}],\n",
       "  'types': ['university'],\n",
       "  'distance_meters': None},\n",
       " {'description': 'Hanoi paragon tower, Phường Dịch Vọng Hậu, Quận Cầu Giấy, Thành phố Hà Nội',\n",
       "  'matched_substrings': [],\n",
       "  'place_id': 'gA5VtCU4kK5K82DKrrWuA7GSoRQOed32bm942PKoNT5t4hlEBs2iEx2aBcF-vD-PkeoJrKatnosFl3296hxefqH6rTVXRRZjffLhOWphomPF9glWuDg6IIX-qXZiYD-Ou',\n",
       "  'reference': 'gA5VtCU4kK5K82DKrrWuA7GSoRQOed32bm942PKoNT5t4hlEBs2iEx2aBcF-vD-PkeoJrKatnosFl3296hxefqH6rTVXRRZjffLhOWphomPF9glWuDg6IIX-qXZiYD-Ou',\n",
       "  'structured_formatting': {'main_text': 'Hanoi paragon tower',\n",
       "   'main_text_matched_substrings': [],\n",
       "   'secondary_text': 'Phường Dịch Vọng Hậu, Quận Cầu Giấy, Thành phố Hà Nội',\n",
       "   'secondary_text_matched_substrings': []},\n",
       "  'has_children': True,\n",
       "  'plus_code': {'compound_code': '+GS4M Dịch Vọng Hậu, Cầu Giấy, Hà Nội',\n",
       "   'global_code': 'LOBY+GS4M'},\n",
       "  'compound': {'district': 'Cầu Giấy',\n",
       "   'commune': 'Dịch Vọng Hậu',\n",
       "   'province': 'Hà Nội'},\n",
       "  'terms': [{'offset': 0, 'value': 'Hanoi paragon tower'},\n",
       "   {'offset': 20, 'value': 'Phường Dịch Vọng Hậu'},\n",
       "   {'offset': 51, 'value': 'Quận Cầu Giấy'},\n",
       "   {'offset': 72, 'value': 'Thành phố Hà Nội'}],\n",
       "  'types': ['building'],\n",
       "  'distance_meters': None},\n",
       " {'description': 'Hanoi Towers, 49 Hai Bà Trưng, Trần Hưng Đạo, Hoàn Kiếm, Hà Nội',\n",
       "  'matched_substrings': [],\n",
       "  'place_id': '7UkmrnpSqb1Jhklcnn-H5XqGcBGefeycYodCEFJth5_AgKoqMWCTeU2GUV2hba3he4FCHJh8l5Ni2mQuom6d3WGAsy2sbJvbe2S_XZ9vn_Z6hVoJJqQmPn-StUiKACHjf',\n",
       "  'reference': '7UkmrnpSqb1Jhklcnn-H5XqGcBGefeycYodCEFJth5_AgKoqMWCTeU2GUV2hba3he4FCHJh8l5Ni2mQuom6d3WGAsy2sbJvbe2S_XZ9vn_Z6hVoJJqQmPn-StUiKACHjf',\n",
       "  'structured_formatting': {'main_text': 'Hanoi Towers',\n",
       "   'main_text_matched_substrings': [],\n",
       "   'secondary_text': '49 Hai Bà Trưng, Trần Hưng Đạo, Hoàn Kiếm, Hà Nội',\n",
       "   'secondary_text_matched_substrings': []},\n",
       "  'has_children': True,\n",
       "  'plus_code': {'compound_code': '+1G3X Trần Hưng Đạo, Hoàn Kiếm, Hà Nội',\n",
       "   'global_code': 'LNPJ+1G3X'},\n",
       "  'compound': {'district': 'Hoàn Kiếm',\n",
       "   'commune': 'Trần Hưng Đạo',\n",
       "   'province': 'Hà Nội'},\n",
       "  'terms': [{'offset': 0, 'value': 'Hanoi Towers'},\n",
       "   {'offset': 13, 'value': '49 Hai Bà Trưng'},\n",
       "   {'offset': 32, 'value': 'Trần Hưng Đạo'},\n",
       "   {'offset': 53, 'value': 'Hoàn Kiếm'},\n",
       "   {'offset': 67, 'value': 'Hà Nội'}],\n",
       "  'types': ['building'],\n",
       "  'distance_meters': None},\n",
       " {'description': 'Hanoi Heart Hospital, 92 Trần Hưng Đạo, Phường Cửa Nam, Quận Hoàn Kiếm, Thành phố Hà Nội',\n",
       "  'matched_substrings': [],\n",
       "  'place_id': 'ObSytqhVhahhPX93nWWHhlQxayqb8ZK79eptJB75ri89jjGsYgRKqqHr7cEK1dLblZppdH4RJmMxmpVk8sm6m7WvCLkG1ZIeHYKRSRoR0hO1hnkFhshKUhBK2SWOEE__E',\n",
       "  'reference': 'ObSytqhVhahhPX93nWWHhlQxayqb8ZK79eptJB75ri89jjGsYgRKqqHr7cEK1dLblZppdH4RJmMxmpVk8sm6m7WvCLkG1ZIeHYKRSRoR0hO1hnkFhshKUhBK2SWOEE__E',\n",
       "  'structured_formatting': {'main_text': 'Hanoi Heart Hospital',\n",
       "   'main_text_matched_substrings': [],\n",
       "   'secondary_text': '92 Trần Hưng Đạo, Phường Cửa Nam, Quận Hoàn Kiếm, Thành phố Hà Nội',\n",
       "   'secondary_text_matched_substrings': []},\n",
       "  'has_children': True,\n",
       "  'plus_code': {'compound_code': '+39UH Cửa Nam, Hoàn Kiếm, Hà Nội',\n",
       "   'global_code': 'LNPH+39UH'},\n",
       "  'compound': {'district': 'Hoàn Kiếm',\n",
       "   'commune': 'Cửa Nam',\n",
       "   'province': 'Hà Nội'},\n",
       "  'terms': [{'offset': 0, 'value': 'Hanoi Heart Hospital'},\n",
       "   {'offset': 21, 'value': '92 Trần Hưng Đạo'},\n",
       "   {'offset': 45, 'value': 'Phường Cửa Nam'},\n",
       "   {'offset': 66, 'value': 'Quận Hoàn Kiếm'},\n",
       "   {'offset': 87, 'value': 'Thành phố Hà Nội'}],\n",
       "  'types': ['hospital'],\n",
       "  'distance_meters': None}]"
      ]
     },
     "execution_count": 4,
     "metadata": {},
     "output_type": "execute_result"
    }
   ],
   "source": [
    "a.json()[\"predictions\"]"
   ]
  }
 ],
 "metadata": {
  "kernelspec": {
   "display_name": "Python 3",
   "language": "python",
   "name": "python3"
  },
  "language_info": {
   "codemirror_mode": {
    "name": "ipython",
    "version": 3
   },
   "file_extension": ".py",
   "mimetype": "text/x-python",
   "name": "python",
   "nbconvert_exporter": "python",
   "pygments_lexer": "ipython3",
   "version": "3.10.11"
  }
 },
 "nbformat": 4,
 "nbformat_minor": 2
}
